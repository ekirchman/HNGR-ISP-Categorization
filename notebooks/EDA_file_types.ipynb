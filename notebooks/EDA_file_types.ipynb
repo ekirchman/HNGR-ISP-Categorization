{
 "cells": [
  {
   "cell_type": "markdown",
   "id": "47a3d6a2-617a-4b68-a531-bd40a3bd09cd",
   "metadata": {},
   "source": [
    "# File Type Analysis\n",
    "In our analysis, we will focus only on files with `.pdf` and `.docx` extensions. This decision is based on the file type distribution observed in the `./hngr-isps` folder, where `.pdf` and `.docx` files make up the majority of the dataset (with 249 and 76 files, respectively). Other file types, such as `.html`, `.mp4`, and `.zip`, occur far less frequently and are therefore excluded from our main analysis to streamline processing and ensure we concentrate on the most relevant documents."
   ]
  },
  {
   "cell_type": "code",
   "execution_count": 6,
   "id": "a3737796-f437-472f-8858-19e2ba2ae72e",
   "metadata": {},
   "outputs": [],
   "source": [
    "import os \n",
    "from collections import defaultdict"
   ]
  },
  {
   "cell_type": "code",
   "execution_count": 9,
   "id": "2c623c7f-3763-420b-aa57-6d15c736968e",
   "metadata": {},
   "outputs": [
    {
     "name": "stdout",
     "output_type": "stream",
     "text": [
      "Unique file types found:\n",
      "  .docx\n",
      "  .html\n",
      "  .mp4\n",
      "  .pdf\n",
      "  .zip\n",
      "\n",
      "File type counts:\n",
      "  .docx: 76\n",
      "  .html: 1\n",
      "  .mp4: 1\n",
      "  .pdf: 249\n",
      "  .zip: 2\n"
     ]
    }
   ],
   "source": [
    "import os\n",
    "from collections import defaultdict\n",
    "\n",
    "def get_unique_file_types(folder_path):\n",
    "    unique_extensions = set()\n",
    "    for root, dirs, files in os.walk(folder_path):\n",
    "        for file in files:\n",
    "            _, extension = os.path.splitext(file)\n",
    "            if extension:\n",
    "                unique_extensions.add(extension.lower())\n",
    "    return unique_extensions\n",
    "\n",
    "def get_file_type_counts(folder_path):\n",
    "    file_type_counts = defaultdict(int)\n",
    "    for root, dirs, files in os.walk(folder_path):\n",
    "        for file in files:\n",
    "            _, extension = os.path.splitext(file)\n",
    "            if extension:\n",
    "                file_type_counts[extension.lower()] += 1\n",
    "    return file_type_counts\n",
    "\n",
    "def main(folder_path):\n",
    "    unique_file_types = get_unique_file_types(folder_path)\n",
    "    file_type_counts = get_file_type_counts(folder_path)\n",
    "    \n",
    "    print(\"Unique file types found:\")\n",
    "    for file_type in sorted(unique_file_types):\n",
    "        print(f\"  {file_type}\")\n",
    "    \n",
    "    print(\"\\nFile type counts:\")\n",
    "    for file_type, count in sorted(file_type_counts.items()):\n",
    "        print(f\"  {file_type}: {count}\")\n",
    "\n",
    "main(\"../hngr-isps\")"
   ]
  }
 ],
 "metadata": {
  "kernelspec": {
   "display_name": "Python 3 (ipykernel)",
   "language": "python",
   "name": "python3"
  },
  "language_info": {
   "codemirror_mode": {
    "name": "ipython",
    "version": 3
   },
   "file_extension": ".py",
   "mimetype": "text/x-python",
   "name": "python",
   "nbconvert_exporter": "python",
   "pygments_lexer": "ipython3",
   "version": "3.12.2"
  }
 },
 "nbformat": 4,
 "nbformat_minor": 5
}
